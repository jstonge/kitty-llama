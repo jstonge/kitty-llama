{
 "cells": [
  {
   "cell_type": "code",
   "execution_count": null,
   "metadata": {},
   "outputs": [],
   "source": [
    "# Set up latest torch instance with Python=3.9\n",
    "import torch\n",
    "from transformers import LlamaForCausalLM, LlamaTokenizer\n",
    "from datasets import load_dataset\n",
    "from pathlib import Path\n",
    "import json\n",
    "from datetime import datetime"
   ]
  },
  {
   "cell_type": "code",
   "execution_count": 2,
   "metadata": {},
   "outputs": [
    {
     "data": {
      "text/plain": [
       "False"
      ]
     },
     "execution_count": 2,
     "metadata": {},
     "output_type": "execute_result"
    }
   ],
   "source": [
    "torch.cuda.is_available()"
   ]
  },
  {
   "cell_type": "markdown",
   "metadata": {},
   "source": [
    "### Select Model"
   ]
  },
  {
   "cell_type": "code",
   "execution_count": null,
   "metadata": {},
   "outputs": [],
   "source": [
    "model_id = \"data\" / \"weights\" / \"13Bf_hf\" # location for model directory, must be in torch format\n",
    "tokenizer = LlamaTokenizer.from_pretrained(model_id)"
   ]
  },
  {
   "cell_type": "code",
   "execution_count": 5,
   "metadata": {},
   "outputs": [
    {
     "name": "stderr",
     "output_type": "stream",
     "text": [
      "Loading checkpoint shards: 100%|██████████| 6/6 [00:35<00:00,  5.85s/it]\n"
     ]
    }
   ],
   "source": [
    "model = LlamaForCausalLM.from_pretrained(model_id, device_map='auto', torch_dtype=torch.float16) # device_map='auto' will use GPU if available"
   ]
  },
  {
   "cell_type": "markdown",
   "metadata": {},
   "source": [
    "### Sys Prompt and Training Data"
   ]
  },
  {
   "cell_type": "code",
   "execution_count": 26,
   "metadata": {},
   "outputs": [],
   "source": [
    "sys_prompt = \"\"\"Pretend you are an observant Assistant, a helpful bot that takes course catalogue data and returns clean JSON object list. If available, the JSON objects should contain for each course in the text a \"Number\", \"Title\", \"Description\", \"Prerequisite\", and \"Credits\". There can be multiple Course Numbers and multiple Prerequisites, include all of them.  If the text is not a course description, return \"[]\".\"\"\""
   ]
  },
  {
   "cell_type": "code",
   "execution_count": 32,
   "metadata": {},
   "outputs": [
    {
     "name": "stderr",
     "output_type": "stream",
     "text": [
      "Downloading data files: 100%|██████████| 1/1 [00:00<00:00, 408.32it/s]\n",
      "Extracting data files: 100%|██████████| 1/1 [00:00<00:00, 133.53it/s]\n",
      "Generating train split: 282 examples [00:00, 23152.54 examples/s]\n"
     ]
    }
   ],
   "source": [
    "train_dataset = load_dataset('json', data_files='data/train.json', split='train')  \n",
    "\n",
    "# split train into train and validation\n",
    "train_dataset = train_dataset.train_test_split(test_size=0.09, shuffle=True)"
   ]
  },
  {
   "cell_type": "code",
   "execution_count": 33,
   "metadata": {},
   "outputs": [
    {
     "data": {
      "text/plain": [
       "{'output': '{\"Number\": \"346\", \"Department\": null, \"Title\": \"G lassblow ing\", \"Description\": \"R e sea rch in th e te ch n iq u e s and lim ita tio n s o f gla ssb lo w in g (ta n kb lo w in g ) w ith em p h a sis on form , te xtu re an d s u rfa c e tre atm e nt. In clu d e d in th is co u rse is an u n d e rsta n d in g o f th e fu n c tio n s o f the glass shop.\", \"Credit\": \"Units each sem ester 9-\", \"Prerequisite\": null}',\n",
       " 'input': '346 G lassblow ing Units each sem ester 9-15 R e sea rch in th e te ch n iq u e s and lim ita tio n s o f gla ssb lo w in g (ta n kb lo w in g ) w ith em p h a sis on form , te xtu re an d s u rfa c e tre atm e nt. In clu d e d in th is co u rse is an u n d e rsta n d in g o f th e fu n c tio n s o f the glass shop.',\n",
       " 'filename': '05x2bcf33_ug_1972_1974_207_6'}"
      ]
     },
     "execution_count": 33,
     "metadata": {},
     "output_type": "execute_result"
    }
   ],
   "source": [
    "# The correct json format-\n",
    "train_dataset['train'][0]"
   ]
  },
  {
   "cell_type": "code",
   "execution_count": 34,
   "metadata": {},
   "outputs": [],
   "source": [
    "def formatting_func(example):\n",
    "    text = f\"\"\"<s>[INST] <<SYS>> {sys_prompt} <</SYS>>\n",
    "\n",
    "```{example['input']}``` \n",
    "Make sure to include prerequisites and exclude any \n",
    "non-course information. [/INST] {example['output']}\n",
    "\"\"\"\n",
    "    return text"
   ]
  },
  {
   "cell_type": "code",
   "execution_count": 35,
   "metadata": {},
   "outputs": [
    {
     "name": "stdout",
     "output_type": "stream",
     "text": [
      "<s>[INST] <<SYS>> Pretend you are an observant Assistant, a helpful bot that takes course catalogue data and returns clean JSON object list. If available, the JSON objects should contain for each course in the text a \"Number\", \"Title\", \"Description\", \"Prerequisite\", and \"Credits\". There can be multiple Course Numbers and multiple Prerequisites, include all of them.  If the text is not a course description, return \"[]\". <</SYS>>\n",
      "\n",
      "```346 G lassblow ing Units each sem ester 9-15 R e sea rch in th e te ch n iq u e s and lim ita tio n s o f gla ssb lo w in g (ta n kb lo w in g ) w ith em p h a sis on form , te xtu re an d s u rfa c e tre atm e nt. In clu d e d in th is co u rse is an u n d e rsta n d in g o f th e fu n c tio n s o f the glass shop.``` \n",
      "Make sure to include prerequisites and exclude any \n",
      "non-course information. [/INST] {\"Number\": \"346\", \"Department\": null, \"Title\": \"G lassblow ing\", \"Description\": \"R e sea rch in th e te ch n iq u e s and lim ita tio n s o f gla ssb lo w in g (ta n kb lo w in g ) w ith em p h a sis on form , te xtu re an d s u rfa c e tre atm e nt. In clu d e d in th is co u rse is an u n d e rsta n d in g o f th e fu n c tio n s o f the glass shop.\", \"Credit\": \"Units each sem ester 9-\", \"Prerequisite\": null}\n",
      "\n"
     ]
    }
   ],
   "source": [
    "# formatted data\n",
    "print(formatting_func(train_dataset['train'][0]))"
   ]
  },
  {
   "cell_type": "code",
   "execution_count": 24,
   "metadata": {},
   "outputs": [],
   "source": [
    "def generate_and_tokenize_prompt(prompt):\n",
    "    return tokenizer(formatting_func(prompt)) # tokenize the data"
   ]
  },
  {
   "cell_type": "code",
   "execution_count": 25,
   "metadata": {},
   "outputs": [
    {
     "name": "stderr",
     "output_type": "stream",
     "text": [
      "Map:   0%|          | 0/249 [00:00<?, ? examples/s]\n"
     ]
    },
    {
     "ename": "NameError",
     "evalue": "name 'tokenizer' is not defined",
     "output_type": "error",
     "traceback": [
      "\u001b[0;31m---------------------------------------------------------------------------\u001b[0m",
      "\u001b[0;31mNameError\u001b[0m                                 Traceback (most recent call last)",
      "Cell \u001b[0;32mIn[25], line 1\u001b[0m\n\u001b[0;32m----> 1\u001b[0m tokenized_train_dataset \u001b[38;5;241m=\u001b[39m \u001b[43mtrain_dataset\u001b[49m\u001b[43m[\u001b[49m\u001b[38;5;124;43m\"\u001b[39;49m\u001b[38;5;124;43mtrain\u001b[39;49m\u001b[38;5;124;43m\"\u001b[39;49m\u001b[43m]\u001b[49m\u001b[38;5;241;43m.\u001b[39;49m\u001b[43mmap\u001b[49m\u001b[43m(\u001b[49m\u001b[43mgenerate_and_tokenize_prompt\u001b[49m\u001b[43m)\u001b[49m\n\u001b[1;32m      2\u001b[0m tokenized_validate_dataset \u001b[38;5;241m=\u001b[39m train_dataset[\u001b[38;5;124m\"\u001b[39m\u001b[38;5;124mtest\u001b[39m\u001b[38;5;124m\"\u001b[39m]\u001b[38;5;241m.\u001b[39mmap(generate_and_tokenize_prompt)\n",
      "File \u001b[0;32m~/miniconda3/envs/llama_env/lib/python3.9/site-packages/datasets/arrow_dataset.py:591\u001b[0m, in \u001b[0;36mtransmit_tasks.<locals>.wrapper\u001b[0;34m(*args, **kwargs)\u001b[0m\n\u001b[1;32m    589\u001b[0m     \u001b[38;5;28mself\u001b[39m: \u001b[38;5;124m\"\u001b[39m\u001b[38;5;124mDataset\u001b[39m\u001b[38;5;124m\"\u001b[39m \u001b[38;5;241m=\u001b[39m kwargs\u001b[38;5;241m.\u001b[39mpop(\u001b[38;5;124m\"\u001b[39m\u001b[38;5;124mself\u001b[39m\u001b[38;5;124m\"\u001b[39m)\n\u001b[1;32m    590\u001b[0m \u001b[38;5;66;03m# apply actual function\u001b[39;00m\n\u001b[0;32m--> 591\u001b[0m out: Union[\u001b[38;5;124m\"\u001b[39m\u001b[38;5;124mDataset\u001b[39m\u001b[38;5;124m\"\u001b[39m, \u001b[38;5;124m\"\u001b[39m\u001b[38;5;124mDatasetDict\u001b[39m\u001b[38;5;124m\"\u001b[39m] \u001b[38;5;241m=\u001b[39m \u001b[43mfunc\u001b[49m\u001b[43m(\u001b[49m\u001b[38;5;28;43mself\u001b[39;49m\u001b[43m,\u001b[49m\u001b[43m \u001b[49m\u001b[38;5;241;43m*\u001b[39;49m\u001b[43margs\u001b[49m\u001b[43m,\u001b[49m\u001b[43m \u001b[49m\u001b[38;5;241;43m*\u001b[39;49m\u001b[38;5;241;43m*\u001b[39;49m\u001b[43mkwargs\u001b[49m\u001b[43m)\u001b[49m\n\u001b[1;32m    592\u001b[0m datasets: List[\u001b[38;5;124m\"\u001b[39m\u001b[38;5;124mDataset\u001b[39m\u001b[38;5;124m\"\u001b[39m] \u001b[38;5;241m=\u001b[39m \u001b[38;5;28mlist\u001b[39m(out\u001b[38;5;241m.\u001b[39mvalues()) \u001b[38;5;28;01mif\u001b[39;00m \u001b[38;5;28misinstance\u001b[39m(out, \u001b[38;5;28mdict\u001b[39m) \u001b[38;5;28;01melse\u001b[39;00m [out]\n\u001b[1;32m    593\u001b[0m \u001b[38;5;28;01mfor\u001b[39;00m dataset \u001b[38;5;129;01min\u001b[39;00m datasets:\n\u001b[1;32m    594\u001b[0m     \u001b[38;5;66;03m# Remove task templates if a column mapping of the template is no longer valid\u001b[39;00m\n",
      "File \u001b[0;32m~/miniconda3/envs/llama_env/lib/python3.9/site-packages/datasets/arrow_dataset.py:556\u001b[0m, in \u001b[0;36mtransmit_format.<locals>.wrapper\u001b[0;34m(*args, **kwargs)\u001b[0m\n\u001b[1;32m    549\u001b[0m self_format \u001b[38;5;241m=\u001b[39m {\n\u001b[1;32m    550\u001b[0m     \u001b[38;5;124m\"\u001b[39m\u001b[38;5;124mtype\u001b[39m\u001b[38;5;124m\"\u001b[39m: \u001b[38;5;28mself\u001b[39m\u001b[38;5;241m.\u001b[39m_format_type,\n\u001b[1;32m    551\u001b[0m     \u001b[38;5;124m\"\u001b[39m\u001b[38;5;124mformat_kwargs\u001b[39m\u001b[38;5;124m\"\u001b[39m: \u001b[38;5;28mself\u001b[39m\u001b[38;5;241m.\u001b[39m_format_kwargs,\n\u001b[1;32m    552\u001b[0m     \u001b[38;5;124m\"\u001b[39m\u001b[38;5;124mcolumns\u001b[39m\u001b[38;5;124m\"\u001b[39m: \u001b[38;5;28mself\u001b[39m\u001b[38;5;241m.\u001b[39m_format_columns,\n\u001b[1;32m    553\u001b[0m     \u001b[38;5;124m\"\u001b[39m\u001b[38;5;124moutput_all_columns\u001b[39m\u001b[38;5;124m\"\u001b[39m: \u001b[38;5;28mself\u001b[39m\u001b[38;5;241m.\u001b[39m_output_all_columns,\n\u001b[1;32m    554\u001b[0m }\n\u001b[1;32m    555\u001b[0m \u001b[38;5;66;03m# apply actual function\u001b[39;00m\n\u001b[0;32m--> 556\u001b[0m out: Union[\u001b[38;5;124m\"\u001b[39m\u001b[38;5;124mDataset\u001b[39m\u001b[38;5;124m\"\u001b[39m, \u001b[38;5;124m\"\u001b[39m\u001b[38;5;124mDatasetDict\u001b[39m\u001b[38;5;124m\"\u001b[39m] \u001b[38;5;241m=\u001b[39m \u001b[43mfunc\u001b[49m\u001b[43m(\u001b[49m\u001b[38;5;28;43mself\u001b[39;49m\u001b[43m,\u001b[49m\u001b[43m \u001b[49m\u001b[38;5;241;43m*\u001b[39;49m\u001b[43margs\u001b[49m\u001b[43m,\u001b[49m\u001b[43m \u001b[49m\u001b[38;5;241;43m*\u001b[39;49m\u001b[38;5;241;43m*\u001b[39;49m\u001b[43mkwargs\u001b[49m\u001b[43m)\u001b[49m\n\u001b[1;32m    557\u001b[0m datasets: List[\u001b[38;5;124m\"\u001b[39m\u001b[38;5;124mDataset\u001b[39m\u001b[38;5;124m\"\u001b[39m] \u001b[38;5;241m=\u001b[39m \u001b[38;5;28mlist\u001b[39m(out\u001b[38;5;241m.\u001b[39mvalues()) \u001b[38;5;28;01mif\u001b[39;00m \u001b[38;5;28misinstance\u001b[39m(out, \u001b[38;5;28mdict\u001b[39m) \u001b[38;5;28;01melse\u001b[39;00m [out]\n\u001b[1;32m    558\u001b[0m \u001b[38;5;66;03m# re-apply format to the output\u001b[39;00m\n",
      "File \u001b[0;32m~/miniconda3/envs/llama_env/lib/python3.9/site-packages/datasets/arrow_dataset.py:3089\u001b[0m, in \u001b[0;36mDataset.map\u001b[0;34m(self, function, with_indices, with_rank, input_columns, batched, batch_size, drop_last_batch, remove_columns, keep_in_memory, load_from_cache_file, cache_file_name, writer_batch_size, features, disable_nullable, fn_kwargs, num_proc, suffix_template, new_fingerprint, desc)\u001b[0m\n\u001b[1;32m   3082\u001b[0m \u001b[38;5;28;01mif\u001b[39;00m transformed_dataset \u001b[38;5;129;01mis\u001b[39;00m \u001b[38;5;28;01mNone\u001b[39;00m:\n\u001b[1;32m   3083\u001b[0m     \u001b[38;5;28;01mwith\u001b[39;00m logging\u001b[38;5;241m.\u001b[39mtqdm(\n\u001b[1;32m   3084\u001b[0m         disable\u001b[38;5;241m=\u001b[39m\u001b[38;5;129;01mnot\u001b[39;00m logging\u001b[38;5;241m.\u001b[39mis_progress_bar_enabled(),\n\u001b[1;32m   3085\u001b[0m         unit\u001b[38;5;241m=\u001b[39m\u001b[38;5;124m\"\u001b[39m\u001b[38;5;124m examples\u001b[39m\u001b[38;5;124m\"\u001b[39m,\n\u001b[1;32m   3086\u001b[0m         total\u001b[38;5;241m=\u001b[39mpbar_total,\n\u001b[1;32m   3087\u001b[0m         desc\u001b[38;5;241m=\u001b[39mdesc \u001b[38;5;129;01mor\u001b[39;00m \u001b[38;5;124m\"\u001b[39m\u001b[38;5;124mMap\u001b[39m\u001b[38;5;124m\"\u001b[39m,\n\u001b[1;32m   3088\u001b[0m     ) \u001b[38;5;28;01mas\u001b[39;00m pbar:\n\u001b[0;32m-> 3089\u001b[0m         \u001b[38;5;28;01mfor\u001b[39;00m rank, done, content \u001b[38;5;129;01min\u001b[39;00m Dataset\u001b[38;5;241m.\u001b[39m_map_single(\u001b[38;5;241m*\u001b[39m\u001b[38;5;241m*\u001b[39mdataset_kwargs):\n\u001b[1;32m   3090\u001b[0m             \u001b[38;5;28;01mif\u001b[39;00m done:\n\u001b[1;32m   3091\u001b[0m                 shards_done \u001b[38;5;241m+\u001b[39m\u001b[38;5;241m=\u001b[39m \u001b[38;5;241m1\u001b[39m\n",
      "File \u001b[0;32m~/miniconda3/envs/llama_env/lib/python3.9/site-packages/datasets/arrow_dataset.py:3442\u001b[0m, in \u001b[0;36mDataset._map_single\u001b[0;34m(shard, function, with_indices, with_rank, input_columns, batched, batch_size, drop_last_batch, remove_columns, keep_in_memory, cache_file_name, writer_batch_size, features, disable_nullable, fn_kwargs, new_fingerprint, rank, offset)\u001b[0m\n\u001b[1;32m   3440\u001b[0m _time \u001b[38;5;241m=\u001b[39m time\u001b[38;5;241m.\u001b[39mtime()\n\u001b[1;32m   3441\u001b[0m \u001b[38;5;28;01mfor\u001b[39;00m i, example \u001b[38;5;129;01min\u001b[39;00m shard_iterable:\n\u001b[0;32m-> 3442\u001b[0m     example \u001b[38;5;241m=\u001b[39m \u001b[43mapply_function_on_filtered_inputs\u001b[49m\u001b[43m(\u001b[49m\u001b[43mexample\u001b[49m\u001b[43m,\u001b[49m\u001b[43m \u001b[49m\u001b[43mi\u001b[49m\u001b[43m,\u001b[49m\u001b[43m \u001b[49m\u001b[43moffset\u001b[49m\u001b[38;5;241;43m=\u001b[39;49m\u001b[43moffset\u001b[49m\u001b[43m)\u001b[49m\n\u001b[1;32m   3443\u001b[0m     \u001b[38;5;28;01mif\u001b[39;00m update_data:\n\u001b[1;32m   3444\u001b[0m         \u001b[38;5;28;01mif\u001b[39;00m i \u001b[38;5;241m==\u001b[39m \u001b[38;5;241m0\u001b[39m:\n",
      "File \u001b[0;32m~/miniconda3/envs/llama_env/lib/python3.9/site-packages/datasets/arrow_dataset.py:3345\u001b[0m, in \u001b[0;36mDataset._map_single.<locals>.apply_function_on_filtered_inputs\u001b[0;34m(pa_inputs, indices, check_same_num_examples, offset)\u001b[0m\n\u001b[1;32m   3343\u001b[0m \u001b[38;5;28;01mif\u001b[39;00m with_rank:\n\u001b[1;32m   3344\u001b[0m     additional_args \u001b[38;5;241m+\u001b[39m\u001b[38;5;241m=\u001b[39m (rank,)\n\u001b[0;32m-> 3345\u001b[0m processed_inputs \u001b[38;5;241m=\u001b[39m \u001b[43mfunction\u001b[49m\u001b[43m(\u001b[49m\u001b[38;5;241;43m*\u001b[39;49m\u001b[43mfn_args\u001b[49m\u001b[43m,\u001b[49m\u001b[43m \u001b[49m\u001b[38;5;241;43m*\u001b[39;49m\u001b[43madditional_args\u001b[49m\u001b[43m,\u001b[49m\u001b[43m \u001b[49m\u001b[38;5;241;43m*\u001b[39;49m\u001b[38;5;241;43m*\u001b[39;49m\u001b[43mfn_kwargs\u001b[49m\u001b[43m)\u001b[49m\n\u001b[1;32m   3346\u001b[0m \u001b[38;5;28;01mif\u001b[39;00m \u001b[38;5;28misinstance\u001b[39m(processed_inputs, LazyDict):\n\u001b[1;32m   3347\u001b[0m     processed_inputs \u001b[38;5;241m=\u001b[39m {\n\u001b[1;32m   3348\u001b[0m         k: v \u001b[38;5;28;01mfor\u001b[39;00m k, v \u001b[38;5;129;01min\u001b[39;00m processed_inputs\u001b[38;5;241m.\u001b[39mdata\u001b[38;5;241m.\u001b[39mitems() \u001b[38;5;28;01mif\u001b[39;00m k \u001b[38;5;129;01mnot\u001b[39;00m \u001b[38;5;129;01min\u001b[39;00m processed_inputs\u001b[38;5;241m.\u001b[39mkeys_to_format\n\u001b[1;32m   3349\u001b[0m     }\n",
      "Cell \u001b[0;32mIn[24], line 2\u001b[0m, in \u001b[0;36mgenerate_and_tokenize_prompt\u001b[0;34m(prompt)\u001b[0m\n\u001b[1;32m      1\u001b[0m \u001b[38;5;28;01mdef\u001b[39;00m \u001b[38;5;21mgenerate_and_tokenize_prompt\u001b[39m(prompt):\n\u001b[0;32m----> 2\u001b[0m     \u001b[38;5;28;01mreturn\u001b[39;00m \u001b[43mtokenizer\u001b[49m(formatting_func(prompt))\n",
      "\u001b[0;31mNameError\u001b[0m: name 'tokenizer' is not defined"
     ]
    }
   ],
   "source": [
    "tokenized_train_dataset = train_dataset[\"train\"].map(generate_and_tokenize_prompt)\n",
    "tokenized_validate_dataset = train_dataset[\"test\"].map(generate_and_tokenize_prompt)"
   ]
  },
  {
   "cell_type": "code",
   "execution_count": 14,
   "metadata": {},
   "outputs": [],
   "source": [
    "##### Uncomment if you want to evaluate first ######\n",
    "\n",
    "# eval_prompt = f\"\"\"<<SYS>>{sys_prompt}<</SYS>>\n",
    "\n",
    "# [INST]Text: {tokenized_validate_dataset[10]['input']}[/INST]\n",
    "# \"\"\"\n",
    "\n",
    "# model_input = tokenizer(eval_prompt, return_tensors=\"pt\").to(\"cuda\")\n",
    "\n",
    "# model.eval()\n",
    "# with torch.no_grad():\n",
    "#     print(tokenizer.decode(model.generate(**model_input, max_new_tokens=1000)[0], skip_special_tokens=True))"
   ]
  },
  {
   "cell_type": "code",
   "execution_count": 15,
   "metadata": {},
   "outputs": [],
   "source": [
    "tokenizer.pad_token = tokenizer.eos_token # llama quirk, have to do it\n",
    "model.gradient_checkpointing_enable() # makes the training faster"
   ]
  },
  {
   "cell_type": "markdown",
   "metadata": {},
   "source": [
    "### Set up Model Training with LoRa Config"
   ]
  },
  {
   "cell_type": "code",
   "execution_count": 16,
   "metadata": {},
   "outputs": [
    {
     "name": "stdout",
     "output_type": "stream",
     "text": [
      "False\n",
      "'CUDASetup' object has no attribute 'cuda_available'\n"
     ]
    },
    {
     "name": "stderr",
     "output_type": "stream",
     "text": [
      "/users/j/s/jstonge1/miniconda3/envs/llama_env/lib/python3.9/site-packages/bitsandbytes/cextension.py:34: UserWarning: The installed version of bitsandbytes was compiled without GPU support. 8-bit optimizers, 8-bit multiplication, and GPU quantization are unavailable.\n",
      "  warn(\"The installed version of bitsandbytes was compiled without GPU support. \"\n"
     ]
    },
    {
     "name": "stdout",
     "output_type": "stream",
     "text": [
      "trainable params: 1,010,892,800 || all params: 14,026,757,120 || trainable%: 7.20688888637433\n"
     ]
    }
   ],
   "source": [
    "model.train() # put the model in training mode\n",
    "\n",
    "def create_peft_config(model):\n",
    "    from peft import (\n",
    "        get_peft_model,\n",
    "        LoraConfig,\n",
    "        TaskType,\n",
    "    )\n",
    "    peft_config = LoraConfig(\n",
    "        task_type=TaskType.CAUSAL_LM,\n",
    "        inference_mode=False,\n",
    "        r=256, # tune this\n",
    "        lora_alpha=512, # and this\n",
    "        lora_dropout=0.05,\n",
    "        # the target modules can also be tuned\n",
    "        target_modules=[\n",
    "        \"q_proj\",\n",
    "        \"k_proj\",\n",
    "        \"v_proj\",\n",
    "        \"o_proj\",\n",
    "        \"gate_proj\",\n",
    "        \"up_proj\",\n",
    "        \"down_proj\",\n",
    "        \"lm_head\",\n",
    "    ]\n",
    "    )\n",
    "    model = get_peft_model(model, peft_config)\n",
    "    model.print_trainable_parameters()\n",
    "    return model, peft_config\n",
    "try:\n",
    "    # create peft config\n",
    "    model, lora_config = create_peft_config(model)\n",
    "except:\n",
    "    model, lora_config = create_peft_config(model)"
   ]
  },
  {
   "cell_type": "code",
   "execution_count": 17,
   "metadata": {},
   "outputs": [],
   "source": [
    "from transformers import TrainerCallback\n",
    "from contextlib import nullcontext\n",
    "enable_profiler = False\n",
    "output_dir = \"tmp/llama-output\"\n",
    "\n",
    "# also tune-able\n",
    "config = {\n",
    "    'lora_config': lora_config,\n",
    "    'learning_rate': 2.5e-5,\n",
    "    'num_train_epochs': 2, # especially this one\n",
    "    'gradient_accumulation_steps': 1,\n",
    "    'per_device_train_batch_size': 1,\n",
    "    'gradient_checkpointing': True,\n",
    "}\n",
    "\n",
    "# Set up profiler, and connect to wandb.ai\n",
    "if enable_profiler:\n",
    "    wait, warmup, active, repeat = 1, 1, 2, 1\n",
    "    total_steps = (wait + warmup + active) * (1 + repeat)\n",
    "    schedule =  torch.profiler.schedule(wait=wait, warmup=warmup, active=active, repeat=repeat)\n",
    "    profiler = torch.profiler.profile(\n",
    "        schedule=schedule,\n",
    "        on_trace_ready=torch.profiler.tensorboard_trace_handler(f\"{output_dir}/logs/tensorboard\"),\n",
    "        record_shapes=True,\n",
    "        profile_memory=True,\n",
    "        with_stack=True)\n",
    "    \n",
    "    class ProfilerCallback(TrainerCallback):\n",
    "        def __init__(self, profiler):\n",
    "            self.profiler = profiler\n",
    "            \n",
    "        def on_step_end(self, *args, **kwargs):\n",
    "            self.profiler.step()\n",
    "\n",
    "    profiler_callback = ProfilerCallback(profiler)\n",
    "else:\n",
    "    profiler = nullcontext()"
   ]
  },
  {
   "cell_type": "markdown",
   "metadata": {},
   "source": [
    "### Train the Model, monitor on wandb"
   ]
  },
  {
   "cell_type": "code",
   "execution_count": null,
   "metadata": {},
   "outputs": [],
   "source": [
    "from transformers import default_data_collator, Trainer, TrainingArguments, DataCollatorForLanguageModeling\n",
    "\n",
    "# Define training args\n",
    "training_args = TrainingArguments(\n",
    "    output_dir=output_dir,\n",
    "    overwrite_output_dir=True,\n",
    "    fp16=True,  # Use BF16 if available\n",
    "    # logging strategies\n",
    "    logging_dir=f\"{output_dir}/logs\",\n",
    "    logging_strategy=\"steps\",\n",
    "    logging_steps=10,\n",
    "    save_strategy=\"no\",\n",
    "    evaluation_strategy=\"steps\",\n",
    "    eval_steps=10,\n",
    "    optim=\"adamw_torch_fused\",\n",
    "    max_steps=total_steps if enable_profiler else -1,\n",
    "    **{k:v for k,v in config.items() if k != 'lora_config'}\n",
    ")\n",
    "\n",
    "with profiler:\n",
    "    # Create Trainer instance\n",
    "    trainer = Trainer(\n",
    "        model=model,\n",
    "        args=training_args,\n",
    "        train_dataset=tokenized_train_dataset,\n",
    "        eval_dataset= tokenized_validate_dataset,\n",
    "        data_collator=DataCollatorForLanguageModeling(tokenizer, mlm=False),\n",
    "        callbacks=[profiler_callback] if enable_profiler else [],\n",
    "    )\n",
    "    # Start training\n",
    "    trainer.train()"
   ]
  },
  {
   "cell_type": "markdown",
   "metadata": {},
   "source": [
    "### Wrap-up"
   ]
  },
  {
   "cell_type": "code",
   "execution_count": null,
   "metadata": {},
   "outputs": [],
   "source": [
    "# merge the weights, otherwise it will only save as lora weights, which llama.cpp does not support atm\n",
    "model = model.merge_and_unload()"
   ]
  },
  {
   "cell_type": "code",
   "execution_count": 20,
   "metadata": {},
   "outputs": [],
   "source": [
    "# save the model\n",
    "model.save_pretrained(\"../models/13Bf_finetuned_02\")\n",
    "tokenizer.save_pretrained(\"../models/13Bf_finetuned_02\")"
   ]
  },
  {
   "cell_type": "code",
   "execution_count": 22,
   "metadata": {},
   "outputs": [
    {
     "name": "stdout",
     "output_type": "stream",
     "text": [
      "\u001b[0;31mSignature:\u001b[0m\n",
      "\u001b[0mLlamaForCausalLM\u001b[0m\u001b[0;34m.\u001b[0m\u001b[0mfrom_pretrained\u001b[0m\u001b[0;34m(\u001b[0m\u001b[0;34m\u001b[0m\n",
      "\u001b[0;34m\u001b[0m    \u001b[0mpretrained_model_name_or_path\u001b[0m\u001b[0;34m:\u001b[0m \u001b[0mUnion\u001b[0m\u001b[0;34m[\u001b[0m\u001b[0mstr\u001b[0m\u001b[0;34m,\u001b[0m \u001b[0mos\u001b[0m\u001b[0;34m.\u001b[0m\u001b[0mPathLike\u001b[0m\u001b[0;34m,\u001b[0m \u001b[0mNoneType\u001b[0m\u001b[0;34m]\u001b[0m\u001b[0;34m,\u001b[0m\u001b[0;34m\u001b[0m\n",
      "\u001b[0;34m\u001b[0m    \u001b[0;34m*\u001b[0m\u001b[0mmodel_args\u001b[0m\u001b[0;34m,\u001b[0m\u001b[0;34m\u001b[0m\n",
      "\u001b[0;34m\u001b[0m    \u001b[0mconfig\u001b[0m\u001b[0;34m:\u001b[0m \u001b[0mUnion\u001b[0m\u001b[0;34m[\u001b[0m\u001b[0mtransformers\u001b[0m\u001b[0;34m.\u001b[0m\u001b[0mconfiguration_utils\u001b[0m\u001b[0;34m.\u001b[0m\u001b[0mPretrainedConfig\u001b[0m\u001b[0;34m,\u001b[0m \u001b[0mstr\u001b[0m\u001b[0;34m,\u001b[0m \u001b[0mos\u001b[0m\u001b[0;34m.\u001b[0m\u001b[0mPathLike\u001b[0m\u001b[0;34m,\u001b[0m \u001b[0mNoneType\u001b[0m\u001b[0;34m]\u001b[0m \u001b[0;34m=\u001b[0m \u001b[0;32mNone\u001b[0m\u001b[0;34m,\u001b[0m\u001b[0;34m\u001b[0m\n",
      "\u001b[0;34m\u001b[0m    \u001b[0mcache_dir\u001b[0m\u001b[0;34m:\u001b[0m \u001b[0mUnion\u001b[0m\u001b[0;34m[\u001b[0m\u001b[0mstr\u001b[0m\u001b[0;34m,\u001b[0m \u001b[0mos\u001b[0m\u001b[0;34m.\u001b[0m\u001b[0mPathLike\u001b[0m\u001b[0;34m,\u001b[0m \u001b[0mNoneType\u001b[0m\u001b[0;34m]\u001b[0m \u001b[0;34m=\u001b[0m \u001b[0;32mNone\u001b[0m\u001b[0;34m,\u001b[0m\u001b[0;34m\u001b[0m\n",
      "\u001b[0;34m\u001b[0m    \u001b[0mignore_mismatched_sizes\u001b[0m\u001b[0;34m:\u001b[0m \u001b[0mbool\u001b[0m \u001b[0;34m=\u001b[0m \u001b[0;32mFalse\u001b[0m\u001b[0;34m,\u001b[0m\u001b[0;34m\u001b[0m\n",
      "\u001b[0;34m\u001b[0m    \u001b[0mforce_download\u001b[0m\u001b[0;34m:\u001b[0m \u001b[0mbool\u001b[0m \u001b[0;34m=\u001b[0m \u001b[0;32mFalse\u001b[0m\u001b[0;34m,\u001b[0m\u001b[0;34m\u001b[0m\n",
      "\u001b[0;34m\u001b[0m    \u001b[0mlocal_files_only\u001b[0m\u001b[0;34m:\u001b[0m \u001b[0mbool\u001b[0m \u001b[0;34m=\u001b[0m \u001b[0;32mFalse\u001b[0m\u001b[0;34m,\u001b[0m\u001b[0;34m\u001b[0m\n",
      "\u001b[0;34m\u001b[0m    \u001b[0mtoken\u001b[0m\u001b[0;34m:\u001b[0m \u001b[0mUnion\u001b[0m\u001b[0;34m[\u001b[0m\u001b[0mstr\u001b[0m\u001b[0;34m,\u001b[0m \u001b[0mbool\u001b[0m\u001b[0;34m,\u001b[0m \u001b[0mNoneType\u001b[0m\u001b[0;34m]\u001b[0m \u001b[0;34m=\u001b[0m \u001b[0;32mNone\u001b[0m\u001b[0;34m,\u001b[0m\u001b[0;34m\u001b[0m\n",
      "\u001b[0;34m\u001b[0m    \u001b[0mrevision\u001b[0m\u001b[0;34m:\u001b[0m \u001b[0mstr\u001b[0m \u001b[0;34m=\u001b[0m \u001b[0;34m'main'\u001b[0m\u001b[0;34m,\u001b[0m\u001b[0;34m\u001b[0m\n",
      "\u001b[0;34m\u001b[0m    \u001b[0muse_safetensors\u001b[0m\u001b[0;34m:\u001b[0m \u001b[0mbool\u001b[0m \u001b[0;34m=\u001b[0m \u001b[0;32mNone\u001b[0m\u001b[0;34m,\u001b[0m\u001b[0;34m\u001b[0m\n",
      "\u001b[0;34m\u001b[0m    \u001b[0;34m**\u001b[0m\u001b[0mkwargs\u001b[0m\u001b[0;34m,\u001b[0m\u001b[0;34m\u001b[0m\n",
      "\u001b[0;34m\u001b[0m\u001b[0;34m)\u001b[0m\u001b[0;34m\u001b[0m\u001b[0;34m\u001b[0m\u001b[0m\n",
      "\u001b[0;31mDocstring:\u001b[0m\n",
      "Instantiate a pretrained pytorch model from a pre-trained model configuration.\n",
      "\n",
      "The model is set in evaluation mode by default using `model.eval()` (Dropout modules are deactivated). To train\n",
      "the model, you should first set it back in training mode with `model.train()`.\n",
      "\n",
      "The warning *Weights from XXX not initialized from pretrained model* means that the weights of XXX do not come\n",
      "pretrained with the rest of the model. It is up to you to train those weights with a downstream fine-tuning\n",
      "task.\n",
      "\n",
      "The warning *Weights from XXX not used in YYY* means that the layer XXX is not used by YYY, therefore those\n",
      "weights are discarded.\n",
      "\n",
      "Parameters:\n",
      "    pretrained_model_name_or_path (`str` or `os.PathLike`, *optional*):\n",
      "        Can be either:\n",
      "\n",
      "            - A string, the *model id* of a pretrained model hosted inside a model repo on huggingface.co.\n",
      "              Valid model ids can be located at the root-level, like `bert-base-uncased`, or namespaced under a\n",
      "              user or organization name, like `dbmdz/bert-base-german-cased`.\n",
      "            - A path to a *directory* containing model weights saved using\n",
      "              [`~PreTrainedModel.save_pretrained`], e.g., `./my_model_directory/`.\n",
      "            - A path or url to a *tensorflow index checkpoint file* (e.g, `./tf_model/model.ckpt.index`). In\n",
      "              this case, `from_tf` should be set to `True` and a configuration object should be provided as\n",
      "              `config` argument. This loading path is slower than converting the TensorFlow checkpoint in a\n",
      "              PyTorch model using the provided conversion scripts and loading the PyTorch model afterwards.\n",
      "            - A path or url to a model folder containing a *flax checkpoint file* in *.msgpack* format (e.g,\n",
      "              `./flax_model/` containing `flax_model.msgpack`). In this case, `from_flax` should be set to\n",
      "              `True`.\n",
      "            - `None` if you are both providing the configuration and state dictionary (resp. with keyword\n",
      "              arguments `config` and `state_dict`).\n",
      "    model_args (sequence of positional arguments, *optional*):\n",
      "        All remaining positional arguments will be passed to the underlying model's `__init__` method.\n",
      "    config (`Union[PretrainedConfig, str, os.PathLike]`, *optional*):\n",
      "        Can be either:\n",
      "\n",
      "            - an instance of a class derived from [`PretrainedConfig`],\n",
      "            - a string or path valid as input to [`~PretrainedConfig.from_pretrained`].\n",
      "\n",
      "        Configuration for the model to use instead of an automatically loaded configuration. Configuration can\n",
      "        be automatically loaded when:\n",
      "\n",
      "            - The model is a model provided by the library (loaded with the *model id* string of a pretrained\n",
      "              model).\n",
      "            - The model was saved using [`~PreTrainedModel.save_pretrained`] and is reloaded by supplying the\n",
      "              save directory.\n",
      "            - The model is loaded by supplying a local directory as `pretrained_model_name_or_path` and a\n",
      "              configuration JSON file named *config.json* is found in the directory.\n",
      "    state_dict (`Dict[str, torch.Tensor]`, *optional*):\n",
      "        A state dictionary to use instead of a state dictionary loaded from saved weights file.\n",
      "\n",
      "        This option can be used if you want to create a model from a pretrained configuration but load your own\n",
      "        weights. In this case though, you should check if using [`~PreTrainedModel.save_pretrained`] and\n",
      "        [`~PreTrainedModel.from_pretrained`] is not a simpler option.\n",
      "    cache_dir (`Union[str, os.PathLike]`, *optional*):\n",
      "        Path to a directory in which a downloaded pretrained model configuration should be cached if the\n",
      "        standard cache should not be used.\n",
      "    from_tf (`bool`, *optional*, defaults to `False`):\n",
      "        Load the model weights from a TensorFlow checkpoint save file (see docstring of\n",
      "        `pretrained_model_name_or_path` argument).\n",
      "    from_flax (`bool`, *optional*, defaults to `False`):\n",
      "        Load the model weights from a Flax checkpoint save file (see docstring of\n",
      "        `pretrained_model_name_or_path` argument).\n",
      "    ignore_mismatched_sizes (`bool`, *optional*, defaults to `False`):\n",
      "        Whether or not to raise an error if some of the weights from the checkpoint do not have the same size\n",
      "        as the weights of the model (if for instance, you are instantiating a model with 10 labels from a\n",
      "        checkpoint with 3 labels).\n",
      "    force_download (`bool`, *optional*, defaults to `False`):\n",
      "        Whether or not to force the (re-)download of the model weights and configuration files, overriding the\n",
      "        cached versions if they exist.\n",
      "    resume_download (`bool`, *optional*, defaults to `False`):\n",
      "        Whether or not to delete incompletely received files. Will attempt to resume the download if such a\n",
      "        file exists.\n",
      "    proxies (`Dict[str, str]`, *optional*):\n",
      "        A dictionary of proxy servers to use by protocol or endpoint, e.g., `{'http': 'foo.bar:3128',\n",
      "        'http://hostname': 'foo.bar:4012'}`. The proxies are used on each request.\n",
      "    output_loading_info(`bool`, *optional*, defaults to `False`):\n",
      "        Whether ot not to also return a dictionary containing missing keys, unexpected keys and error messages.\n",
      "    local_files_only(`bool`, *optional*, defaults to `False`):\n",
      "        Whether or not to only look at local files (i.e., do not try to download the model).\n",
      "    token (`str` or `bool`, *optional*):\n",
      "        The token to use as HTTP bearer authorization for remote files. If `True`, or not specified, will use\n",
      "        the token generated when running `huggingface-cli login` (stored in `~/.huggingface`).\n",
      "    revision (`str`, *optional*, defaults to `\"main\"`):\n",
      "        The specific model version to use. It can be a branch name, a tag name, or a commit id, since we use a\n",
      "        git-based system for storing models and other artifacts on huggingface.co, so `revision` can be any\n",
      "        identifier allowed by git.\n",
      "\n",
      "        <Tip>\n",
      "\n",
      "        To test a pull request you made on the Hub, you can pass `revision=\"refs/pr/<pr_number>\".\n",
      "\n",
      "        </Tip>\n",
      "\n",
      "    mirror (`str`, *optional*):\n",
      "        Mirror source to accelerate downloads in China. If you are from China and have an accessibility\n",
      "        problem, you can set this option to resolve it. Note that we do not guarantee the timeliness or safety.\n",
      "        Please refer to the mirror site for more information.\n",
      "    _fast_init(`bool`, *optional*, defaults to `True`):\n",
      "        Whether or not to disable fast initialization.\n",
      "\n",
      "        <Tip warning={true}>\n",
      "\n",
      "        One should only disable *_fast_init* to ensure backwards compatibility with `transformers.__version__ <\n",
      "        4.6.0` for seeded model initialization. This argument will be removed at the next major version. See\n",
      "        [pull request 11471](https://github.com/huggingface/transformers/pull/11471) for more information.\n",
      "\n",
      "        </Tip>\n",
      "\n",
      "    > Parameters for big model inference\n",
      "\n",
      "    low_cpu_mem_usage(`bool`, *optional*):\n",
      "        Tries to not use more than 1x model size in CPU memory (including peak memory) while loading the model.\n",
      "        This is an experimental feature and a subject to change at any moment.\n",
      "    torch_dtype (`str` or `torch.dtype`, *optional*):\n",
      "        Override the default `torch.dtype` and load the model under a specific `dtype`. The different options\n",
      "        are:\n",
      "\n",
      "        1. `torch.float16` or `torch.bfloat16` or `torch.float`: load in a specified\n",
      "          `dtype`, ignoring the model's `config.torch_dtype` if one exists. If not specified\n",
      "          - the model will get loaded in `torch.float` (fp32).\n",
      "\n",
      "        2. `\"auto\"` - A `torch_dtype` entry in the `config.json` file of the model will be\n",
      "          attempted to be used. If this entry isn't found then next check the `dtype` of the first weight in\n",
      "          the checkpoint that's of a floating point type and use that as `dtype`. This will load the model\n",
      "          using the `dtype` it was saved in at the end of the training. It can't be used as an indicator of how\n",
      "          the model was trained. Since it could be trained in one of half precision dtypes, but saved in fp32.\n",
      "\n",
      "        <Tip>\n",
      "\n",
      "        For some models the `dtype` they were trained in is unknown - you may try to check the model's paper or\n",
      "        reach out to the authors and ask them to add this information to the model's card and to insert the\n",
      "        `torch_dtype` entry in `config.json` on the hub.\n",
      "\n",
      "        </Tip>\n",
      "\n",
      "    device_map (`str` or `Dict[str, Union[int, str, torch.device]]` or `int` or `torch.device`, *optional*):\n",
      "        A map that specifies where each submodule should go. It doesn't need to be refined to each\n",
      "        parameter/buffer name, once a given module name is inside, every submodule of it will be sent to the\n",
      "        same device. If we only pass the device (*e.g.*, `\"cpu\"`, `\"cuda:1\"`, `\"mps\"`, or a GPU ordinal rank\n",
      "        like `1`) on which the model will be allocated, the device map will map the entire model to this\n",
      "        device. Passing `device_map = 0` means put the whole model on GPU 0.\n",
      "\n",
      "        To have Accelerate compute the most optimized `device_map` automatically, set `device_map=\"auto\"`. For\n",
      "        more information about each option see [designing a device\n",
      "        map](https://hf.co/docs/accelerate/main/en/usage_guides/big_modeling#designing-a-device-map).\n",
      "    max_memory (`Dict`, *optional*):\n",
      "        A dictionary device identifier to maximum memory. Will default to the maximum memory available for each\n",
      "        GPU and the available CPU RAM if unset.\n",
      "    offload_folder (`str` or `os.PathLike`, *optional*):\n",
      "        If the `device_map` contains any value `\"disk\"`, the folder where we will offload weights.\n",
      "    offload_state_dict (`bool`, *optional*):\n",
      "        If `True`, will temporarily offload the CPU state dict to the hard drive to avoid getting out of CPU\n",
      "        RAM if the weight of the CPU state dict + the biggest shard of the checkpoint does not fit. Defaults to\n",
      "        `True` when there is some disk offload.\n",
      "    load_in_8bit (`bool`, *optional*, defaults to `False`):\n",
      "        If `True`, will convert the loaded model into mixed-8bit quantized model. To use this feature please\n",
      "        install `bitsandbytes` (`pip install -U bitsandbytes`).\n",
      "    load_in_4bit (`bool`, *optional*, defaults to `False`):\n",
      "        If `True`, will convert the loaded model into 4bit precision quantized model. To use this feature\n",
      "        install the latest version of `bitsandbytes` (`pip install -U bitsandbytes`).\n",
      "    quantization_config (`Union[QuantizationConfigMixin,Dict]`, *optional*):\n",
      "        A dictionary of configuration parameters or a QuantizationConfigMixin object for quantization (e.g\n",
      "        bitsandbytes, gptq)\n",
      "    subfolder (`str`, *optional*, defaults to `\"\"`):\n",
      "        In case the relevant files are located inside a subfolder of the model repo on huggingface.co, you can\n",
      "        specify the folder name here.\n",
      "    variant (`str`, *optional*):\n",
      "        If specified load weights from `variant` filename, *e.g.* pytorch_model.<variant>.bin. `variant` is\n",
      "        ignored when using `from_tf` or `from_flax`.\n",
      "    use_safetensors (`bool`, *optional*, defaults to `None`):\n",
      "        Whether or not to use `safetensors` checkpoints. Defaults to `None`. If not specified and `safetensors`\n",
      "        is not installed, it will be set to `False`.\n",
      "\n",
      "    kwargs (remaining dictionary of keyword arguments, *optional*):\n",
      "        Can be used to update the configuration object (after it being loaded) and initiate the model (e.g.,\n",
      "        `output_attentions=True`). Behaves differently depending on whether a `config` is provided or\n",
      "        automatically loaded:\n",
      "\n",
      "            - If a configuration is provided with `config`, `**kwargs` will be directly passed to the\n",
      "              underlying model's `__init__` method (we assume all relevant updates to the configuration have\n",
      "              already been done)\n",
      "            - If a configuration is not provided, `kwargs` will be first passed to the configuration class\n",
      "              initialization function ([`~PretrainedConfig.from_pretrained`]). Each key of `kwargs` that\n",
      "              corresponds to a configuration attribute will be used to override said attribute with the\n",
      "              supplied `kwargs` value. Remaining keys that do not correspond to any configuration attribute\n",
      "              will be passed to the underlying model's `__init__` function.\n",
      "\n",
      "<Tip>\n",
      "\n",
      "Activate the special [\"offline-mode\"](https://huggingface.co/transformers/installation.html#offline-mode) to\n",
      "use this method in a firewalled environment.\n",
      "\n",
      "</Tip>\n",
      "\n",
      "Examples:\n",
      "\n",
      "```python\n",
      ">>> from transformers import BertConfig, BertModel\n",
      "\n",
      ">>> # Download model and configuration from huggingface.co and cache.\n",
      ">>> model = BertModel.from_pretrained(\"bert-base-uncased\")\n",
      ">>> # Model was saved using *save_pretrained('./test/saved_model/')* (for example purposes, not runnable).\n",
      ">>> model = BertModel.from_pretrained(\"./test/saved_model/\")\n",
      ">>> # Update configuration during loading.\n",
      ">>> model = BertModel.from_pretrained(\"bert-base-uncased\", output_attentions=True)\n",
      ">>> assert model.config.output_attentions == True\n",
      ">>> # Loading from a TF checkpoint file instead of a PyTorch model (slower, for example purposes, not runnable).\n",
      ">>> config = BertConfig.from_json_file(\"./tf_model/my_tf_model_config.json\")\n",
      ">>> model = BertModel.from_pretrained(\"./tf_model/my_tf_checkpoint.ckpt.index\", from_tf=True, config=config)\n",
      ">>> # Loading from a Flax checkpoint file instead of a PyTorch model (slower)\n",
      ">>> model = BertModel.from_pretrained(\"bert-base-uncased\", from_flax=True)\n",
      "```\n",
      "\n",
      "* `low_cpu_mem_usage` algorithm:\n",
      "\n",
      "This is an experimental function that loads the model using ~1x model size CPU memory\n",
      "\n",
      "Here is how it works:\n",
      "\n",
      "1. save which state_dict keys we have\n",
      "2. drop state_dict before the model is created, since the latter takes 1x model size CPU memory\n",
      "3. after the model has been instantiated switch to the meta device all params/buffers that\n",
      "are going to be replaced from the loaded state_dict\n",
      "4. load state_dict 2nd time\n",
      "5. replace the params/buffers from the state_dict\n",
      "\n",
      "Currently, it can't handle deepspeed ZeRO stage 3 and ignores loading errors\n",
      "\u001b[0;31mFile:\u001b[0m      ~/miniconda3/envs/llama_env/lib/python3.9/site-packages/transformers/modeling_utils.py\n",
      "\u001b[0;31mType:\u001b[0m      method"
     ]
    }
   ],
   "source": [
    "?LlamaForCausalLM.from_pretrained"
   ]
  },
  {
   "cell_type": "code",
   "execution_count": null,
   "metadata": {},
   "outputs": [],
   "source": [
    "model = LlamaForCausalLM.from_pretrained(\"../models/13Bf_finetuned_02\", )"
   ]
  },
  {
   "cell_type": "code",
   "execution_count": 21,
   "metadata": {},
   "outputs": [
    {
     "name": "stderr",
     "output_type": "stream",
     "text": [
      "Setting `pad_token_id` to `eos_token_id`:2 for open-end generation.\n"
     ]
    },
    {
     "name": "stdout",
     "output_type": "stream",
     "text": [
      "<<SYS>>You are a helpful Assistant, you take course catalogue raw text extract and return a clean JSON object list. If available, the JSON objects should contain for each course in the text a \"Number\", \"Title\", \"Description\", \"Prerequisites\", and \"Credits\". There can be multiple Course Numbers include all of them. If the text is not a course description, return '[]'.<</SYS>>\n",
      "\n",
      "[INST]Text: oselective and\n",
      "enantioselective processes. Prerequisite: CHEM 241.\n",
      "CHEM 260. Advanced Physical Chemistry. 3 Credits.\n",
      "Builds on the concepts from Introductory Physical Chemistry\n",
      "(CHEM 165). The three major areas of quantum chemistry,\n",
      "thermodynamics, and kinetics are extended in greater depth, and at\n",
      "a higher level of mathematical rigor. Prerequisite: CHEM 165. Co-\n",
      "requisites: CHEM 167 or MATH 121.\n",
      "CHEM 267. Topics in Physical Chemistry. 1-3 Credits.\n",
      "Selected topics of current interest in physical chemistry. See Schedule\n",
      "of Courses for specific titles. May be repeated for credit with different\n",
      "content. Prerequisite: CHEM 260.\n",
      "CHEM 282. Senior Seminar. 1 Credit.\n",
      "Oral and written presentation of a subject of current chemical\n",
      "interest. Pre/Co-requisite: Audit of CHEM 381.\n",
      "CHEM 285. Special Topics. 1-3 Credits.\n",
      "Selected topics of current interest that do not fall into one of the\n",
      "traditional areas of chemistry.\n",
      "CHEM 286. Special Topics. 1-3 Credits.\n",
      "Selected topics of current interest that do not fall into one of the\n",
      "traditional areas of chemistry.\n",
      "CHEM 290. Internship. 1-18 Credits.\n",
      "On-site supervised work experience combined with a structured\n",
      "academic learning plan directed by a faculty member or a faculty-staff\n",
      "team in which a faculty member is the instructor of record, for which\n",
      "academic credit is Offered at department discretion.\n",
      "CHEM 291. Undergraduate Research. 1-18 Credits.\n",
      "Undergraduate students work on research projects under the\n",
      "supervision of a faculty member, for which credit is awarded. Offered\n",
      "at department discretion. Prerequisite: Departmental permission.\n",
      "CHEM 292. Independent Study. 1-18 Credits.\n",
      "A course which is tailored to fit the interests of a specific student,\n",
      "which occurs outside the traditional classroom/laboratory setting\n",
      "under the supervision of a faculty member, for which credit is\n",
      "awarded. Offered at department discretion.\n",
      "CHEM 293. Teaching Assistantship. 1-3 Credits.\n",
      "Undergraduate student service as a teaching assistant, usually in\n",
      "an introductory-level course in the discipline, for which credit is\n",
      "awarded. Offered at department discretion.\n",
      "53\n",
      "THE UNIVERSITY OF VERMONT UNDERGRADUATE CATALOGUE 2020-2021\n",
      "CHEM 295. Advanced Special Topics. 1-18 Credits.\n",
      "See Schedule of Courses for specific titles.\n",
      "CHEM 296. Advanced Special Topics. 1-18 Credits.\n",
      "See Schedule of Courses for specific titles.\n",
      "CHINESE (CHIN)\n",
      "Courses\n",
      "CHIN 001. Elementary Chinese I. 4 Credits.\n",
      "A study of Mandarin Chinese designed to give students the\n",
      "fundamentals of the sound and writing systems for developing\n",
      "modern Chinese communicative skills. No prior knowledge expected.\n",
      "CHIN 002. Elementary Chinese II. 4 Credits.\n",
      "A continuation of CHIN 001 designed to give students basic\n",
      "Chinese grammar and vocabulary for daily communication purposes.\n",
      "Prerequisite: CHIN 001 or equivalent.\n",
      "CHIN 020. Chinese Characters. 1 Credit.\n",
      "Understand the Chinese writing system and learn to recognize and\n",
      "write basic Chinese characters.\n",
      "CHIN 051. Intermediate Chinese I. 4 Credits.[/INST]\n",
      "\n",
      "[\n",
      "    {\n",
      "        \"Number\": [\n",
      "            260\n",
      "        ],\n",
      "        \"Title\": \"Advanced Physical Chemistry\",\n",
      "        \"Description\": \"Builds on the concepts from Introductory Physical Chemistry (CHEM 165). The three major areas of quantum chemistry, thermodynamics, and kinetics are extended in greater depth, and at a higher level of mathematical rigor\",\n",
      "        \"Prerequisites\": \"CHEM 165\",\n",
      "        \"Credits\": \"3\"\n",
      "    },\n",
      "    {\n",
      "        \"Number\": [\n",
      "            267\n",
      "        ],\n",
      "        \"Title\": \"Topics in Physical Chemistry\",\n",
      "        \"Description\": \"Selected topics of current interest in physical chemistry. See Schedule of Courses for specific titles. May be repeated for credit with different content\",\n",
      "        \"Prerequisites\": \"CHEM 260\",\n",
      "        \"Credits\": \"1-3\"\n",
      "    },\n",
      "    {\n",
      "        \"Number\": [\n",
      "            282\n",
      "        ],\n",
      "        \"Title\": \"Senior Seminar\",\n",
      "        \"Description\": \"Oral and written presentation of a subject of current interest\",\n",
      "        \"Prerequisites\": \"Audit of CHEM 381\",\n",
      "        \"Credits\": \"1\"\n",
      "    },\n",
      "    {\n",
      "        \"Number\": [\n",
      "            285\n",
      "        ],\n",
      "        \"Title\": \"Special Topics\",\n",
      "        \"Description\": \"Selected topics of current interest that do not fall into one of the traditional areas of chemistry\",\n",
      "        \"Prerequisites\": \"\",\n",
      "        \"Credits\": \"1-3\"\n",
      "    },\n",
      "    {\n",
      "        \"Number\": [\n",
      "            286\n",
      "        ],\n",
      "        \"Title\": \"Special Topics\",\n",
      "        \"Description\": \"Selected topics of current interest that do not fall into one of the traditional areas of chemistry\",\n",
      "        \"Prerequisites\": \"\",\n",
      "        \"Credits\": \"1-3\"\n",
      "    },\n",
      "    {\n",
      "        \"Number\": [\n",
      "            290\n",
      "        ],\n",
      "        \"Title\": \"Internship\",\n",
      "        \"Description\": \"On-site supervised work experience combined with a structured academic learning plan directed by a faculty member or a faculty-staff team in which a faculty member is the instructor of record, for which academic credit is Offered at department discretion\",\n",
      "        \"Prerequisites\": \"\",\n",
      "        \"Credits\": \"1-18\"\n",
      "    },\n",
      "    {\n",
      "        \"Number\": [\n",
      "            291\n",
      "        ],\n",
      "        \"Title\": \"Undergraduate Research\",\n",
      "        \"Description\": \"Undergraduate students work on research projects under the supervision of a faculty member, for which credit is awarded. Offered at department discretion\",\n",
      "        \"Prerequisites\": \"Departmental permission\",\n",
      "        \"Credits\": \"1-18\"\n",
      "    },\n",
      "    {\n",
      "        \"Number\": [\n",
      "            292\n",
      "        ],\n",
      "        \"Title\": \"Independent Study\",\n",
      "        \"Description\": \"A course which is tailored to fit the interests of a specific student, which occurs outside the traditional classroomlaboratory setting under the supervision of a faculty member, for which credit is awarded. Offered at department discretion\",\n",
      "        \"Prerequisites\": \"\",\n",
      "        \"Credits\": \"1-18\"\n",
      "    },\n",
      "    {\n",
      "        \"Number\": [\n",
      "            293\n",
      "        ],\n",
      "        \"Title\": \"Teaching Assistantship\",\n",
      "        \"Description\": \"Undergraduate student service as a teaching assistant, usually in an introductory-level course in the discipline, for which credit is awarded. Offered at department discretion\",\n",
      "        \"Prerequisites\": \"\",\n",
      "        \"Credits\": \"1-3\"\n",
      "    },\n",
      "    {\n",
      "        \"Number\": [\n",
      "            295\n",
      "        ],\n",
      "        \"Title\": \"Advanced Special Topics\",\n",
      "        \"Description\": \"See Schedule of Courses for specific titles\",\n",
      "        \"Prerequisites\": \"\",\n",
      "        \"Credits\": \"1-18\"\n",
      "    },\n",
      "    {\n",
      "        \"Number\": [\n",
      "            296\n",
      "        ],\n",
      "        \"Title\": \"Advanced Special Topics\",\n",
      "        \"Description\": \"See Schedule of Courses for specific titles\",\n",
      "        \"Prerequisites\": \"\",\n",
      "        \"Credits\": \"1-18\"\n",
      "    },\n"
     ]
    }
   ],
   "source": [
    "# Evaluate the new model\n",
    "eval_prompt = f\"\"\"<<SYS>>{sys_prompt}<</SYS>>\n",
    "\n",
    "[INST]Text: {tokenized_validate_dataset[10]['input']}[/INST]\n",
    "\"\"\"\n",
    "\n",
    "model_input = tokenizer(eval_prompt, return_tensors=\"pt\").to(\"cuda\")\n",
    "\n",
    "model.eval()\n",
    "with torch.no_grad():\n",
    "    print(tokenizer.decode(model.generate(**model_input, max_new_tokens=1000)[0], skip_special_tokens=True))"
   ]
  }
 ],
 "metadata": {
  "kernelspec": {
   "display_name": "Python 3 (ipykernel)",
   "language": "python",
   "name": "python3"
  },
  "language_info": {
   "codemirror_mode": {
    "name": "ipython",
    "version": 3
   },
   "file_extension": ".py",
   "mimetype": "text/x-python",
   "name": "python",
   "nbconvert_exporter": "python",
   "pygments_lexer": "ipython3",
   "version": "3.9.18"
  }
 },
 "nbformat": 4,
 "nbformat_minor": 4
}
